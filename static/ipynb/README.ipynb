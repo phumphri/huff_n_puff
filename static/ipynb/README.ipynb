{
 "cells": [
  {
   "cell_type": "markdown",
   "metadata": {},
   "source": [
    "<h1>Assignment 4</h1>\n",
    "<h5>Rural Popuulation</h5>\n",
    "<ul>\n",
    "    <li>Student:  Patrick Humphries</li>\n",
    "    <li>Email:  pvhumphr@usc.edu</li>\n",
    "    <li>Class:  INF 554 Information Visualization</li>\n",
    "    <li>Semester:  Fall 2019</li>\n",
    "</ul>"
   ]
  },
  {
   "cell_type": "markdown",
   "metadata": {},
   "source": [
    "<h3>Assignment</h3>\n",
    "From World Bank Open Data download Rural population (% of total population) for 20 countries and a year of your choice.\n",
    "\n",
    "In an HTML document, load the data as CSV using D3.\n",
    "\n",
    "With D3, using data joins, create:\n",
    "\n",
    "<ul>\n",
    "    <li>HTML table</li>\n",
    "    <li>SVG bar chart</li>\n",
    "    <li>scatterplot</li>\n",
    "    <li>bubble chart</li>\n",
    "</ul>"
   ]
  },
  {
   "cell_type": "markdown",
   "metadata": {},
   "source": [
    "<h3>Approach</h3>\n",
    "There are two files: metadata and data.\n",
    "\n",
    "The dimensions of \"Code\", \"Income Group\", and \"Region\" are taken from the metaada file.\n",
    "\n",
    "The attribute \"Country Name\" is taken from the metadata file as well.\n",
    "\n",
    "The percentage fact \"Value\" is taken from attribute \"2018\" of the data table.\n",
    "\n",
    "When both files are needed for a chart, the data file is joined with the metadata file."
   ]
  },
  {
   "cell_type": "markdown",
   "metadata": {},
   "source": [
    "<h3>Provenance</h3>\n",
    "The \"Metadata\" file is the \"Metadata_Country_API_SP.RUR.TOTL.ZS_DS2_en_csv_v2_50124.csv\" was downloaded from <a href=\"https://data.worldbank.org\" target=\"_blank\">data.worldbank.org</a>.\n",
    "\n",
    "The \"Data\" file is the \"API_SP.RUR.TOTL.ZS_DS2_en_csv_v2_50124.csv\" was downloaded from <a href = \"https://data.worldbank.org\" target=\"_blank\">data.worldbank.org</a>."
   ]
  },
  {
   "cell_type": "markdown",
   "metadata": {},
   "source": [
    "<h3>Repository</h3>\n",
    "<a href=\"https://github.com/INF554/a4-phumphri.git\" target=\"_blank\">GitHub</a>"
   ]
  },
  {
   "cell_type": "markdown",
   "metadata": {},
   "source": []
  },
  {
   "cell_type": "markdown",
   "metadata": {},
   "source": []
  }
 ],
 "metadata": {
  "kernelspec": {
   "display_name": "Python 3",
   "language": "python",
   "name": "python3"
  },
  "language_info": {
   "codemirror_mode": {
    "name": "ipython",
    "version": 3
   },
   "file_extension": ".py",
   "mimetype": "text/x-python",
   "name": "python",
   "nbconvert_exporter": "python",
   "pygments_lexer": "ipython3",
   "version": "3.7.3"
  }
 },
 "nbformat": 4,
 "nbformat_minor": 2
}
